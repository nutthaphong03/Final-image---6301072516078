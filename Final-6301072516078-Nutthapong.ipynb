{
 "cells": [
  {
   "cell_type": "code",
   "execution_count": 1,
   "metadata": {},
   "outputs": [],
   "source": [
    "import cv2\n",
    "#วิธีเปิด VDO #https://www.projectpro.io/recipes/does-template-matching-work-opencv (เว็ปข้อมูล CODE)\n",
    "\n",
    "cap = cv2.VideoCapture(\"left_output-1.avi\") #ลิงค์ของ VDO \n",
    "while(cap.isOpened()):\n",
    "        ret,frame = cap.read() #function ตอนเปิด VDO\n",
    "        frame_gray = cv2.cvtColor(frame, cv2.COLOR_BGR2GRAY) #แปลง VDO เป็นสีเทาเพื่อจับภาพ \n",
    "        template = cv2.imread(\"Template-1.png\",0) #เรียกภาพของรูปหนังสืออาจารย์มาเพื่อใช้ให้ตรวจจับรูปหนังสือตามที่กำหนด\n",
    "        temp_w, temp_h = template.shape[::-1] \n",
    "        result = cv2.matchTemplate(frame_gray,template,cv2.TM_CCOEFF_NORMED) \n",
    "        min_val, max_val, min_loc, max_loc = cv2.minMaxLoc(result) \n",
    "        top_left = max_loc \n",
    "        bottom_right = (top_left[0] + temp_w, top_left[1] + temp_h) \n",
    "        detected = cv2.rectangle(frame ,top_left, bottom_right, (255,0,255), 2) \n",
    "        frame = cv2.resize(frame,(1100,600)) #ขนาดของจอแสดงผล VDO \n",
    "        cv2.imshow(\"video\",frame)\n",
    "        if cv2.waitKey(1) & 0xFF == ord('n'): #ความเร็วของวีดีโอ และตัวสั่งจบ VDO \n",
    "            break\n",
    "cap.release()\n",
    "cv2.destroyAllWindows()"
   ]
  }
 ],
 "metadata": {
  "kernelspec": {
   "display_name": "Python 3.10.6 64-bit",
   "language": "python",
   "name": "python3"
  },
  "language_info": {
   "codemirror_mode": {
    "name": "ipython",
    "version": 3
   },
   "file_extension": ".py",
   "mimetype": "text/x-python",
   "name": "python",
   "nbconvert_exporter": "python",
   "pygments_lexer": "ipython3",
   "version": "3.10.6"
  },
  "orig_nbformat": 4,
  "vscode": {
   "interpreter": {
    "hash": "cba3885631f859aff11b27a63a4e802a733b6cd95088ddfc6ca54a36654d6ee5"
   }
  }
 },
 "nbformat": 4,
 "nbformat_minor": 2
}
