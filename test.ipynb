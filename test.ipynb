{
 "cells": [
  {
   "cell_type": "code",
   "execution_count": 7,
   "metadata": {},
   "outputs": [],
   "source": [
    "import cv2 \n",
    "\n",
    "import numpy as np \n",
    "\n",
    "from matplotlib import pyplot as plt \n",
    "\n",
    "image_dd = cv2.imread(\"booktest.jpg\")\n",
    "image = cv2.imread(\"booktest.jpg\",0)\n",
    "\n",
    "template = cv2.imread('Template-1.png',0) \n",
    "temp_w, temp_h = template.shape[::-1] \n",
    "\n",
    "result = cv2.matchTemplate(image,template,cv2.TM_CCOEFF_NORMED) \n",
    "\n",
    "min_val, max_val, min_loc, max_loc = cv2.minMaxLoc(result) \n",
    "\n",
    "top_left = max_loc \n",
    "\n",
    "bottom_right = (top_left[0] + temp_w, top_left[1] + temp_h) \n",
    "\n",
    "detected = cv2.rectangle(image_dd ,top_left, bottom_right, (255,0,0), 2) \n",
    "\n",
    "cv2.imshow('Detected template',detected) \n",
    "\n",
    "cv2.waitKey(0) \n",
    "\n",
    "cv2.destroyAllWindows() "
   ]
  }
 ],
 "metadata": {
  "kernelspec": {
   "display_name": "Python 3.10.6 64-bit",
   "language": "python",
   "name": "python3"
  },
  "language_info": {
   "codemirror_mode": {
    "name": "ipython",
    "version": 3
   },
   "file_extension": ".py",
   "mimetype": "text/x-python",
   "name": "python",
   "nbconvert_exporter": "python",
   "pygments_lexer": "ipython3",
   "version": "3.10.6"
  },
  "orig_nbformat": 4,
  "vscode": {
   "interpreter": {
    "hash": "cba3885631f859aff11b27a63a4e802a733b6cd95088ddfc6ca54a36654d6ee5"
   }
  }
 },
 "nbformat": 4,
 "nbformat_minor": 2
}
